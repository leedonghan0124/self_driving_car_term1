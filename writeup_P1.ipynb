{
 "cells": [
  {
   "cell_type": "markdown",
   "metadata": {
    "deletable": true,
    "editable": true
   },
   "source": [
    "# Reflection\n",
    "\n",
    "###1. Describe your pipeline. As part of the description, explain how you modified the draw_lines() function.\n",
    "\n",
    "My pipeline consisted of 5 steps. \n",
    "\n",
    "1. I converted the images to gray scale.\n",
    "\n",
    "    - I used grayscale(image) function\n",
    "    \n",
    "\n",
    "2. I applied Gaussian smoothing before canny edge.\n",
    "\n",
    "    - I used gaussian_blur(image,kernel_size) function\n",
    "    \n",
    "\n",
    "3. I applied Canny edge detection to get edge image.\n",
    "\n",
    "    - I used canny(image, low_threshold, high_threshold) function\n",
    "    \n",
    "\n",
    "4. I put a mask on the area of interest.\n",
    "\n",
    "    - I used region_of_interest(image, vertices) function\n",
    "    \n",
    "\n",
    "5. I used the Hough Transform to find the lane candidate area, erase the area judged as noise, and finally found the lane.\n",
    "\n",
    "    - In order to draw a single line on the left and right lanes, I modified the draw_lines() function to a new function with four steps.\n",
    "    \n",
    "    1) Added the limitations to ignore noise.\n",
    "       - I used 3 limitation parameters to know whether they have enough line length, proper angle(low limit, high limit). If they are too          short or vertical or horizontal, I ignored that line.\n",
    "       \n",
    "    2) From the slope it was judged whether the line should be on the right or on the left.\n",
    "       - If the line have positive slope, that line should be on the right side.\n",
    "       \n",
    "    3) I did average(start points of left line), average(start points of right line), average(end points of left line), average(end points        of right line) to make single line.\n",
    "    \n",
    "    4) I extrapolated the line to y = image.shape[1] to y = 320. (320 is upper y value of vertices, you can change the value if you want)\n",
    "    \n",
    "       \n",
    "\n",
    "\n",
    "###2. Identify potential shortcomings with your current pipeline\n",
    "\n",
    "    - Most importantly, my current pipeline can not find curved lane\n",
    "\n",
    "###3. Suggest possible improvements to your pipeline\n",
    "\n",
    "    - I think add the curve detection algorithm using hough transform will work. I also hope to be able to solve this problem with deep learning algorithms that I will learn later.\n",
    "\n"
   ]
  }
 ],
 "metadata": {
  "anaconda-cloud": {},
  "kernelspec": {
   "display_name": "Python [conda env:carnd-term1]",
   "language": "python",
   "name": "conda-env-carnd-term1-py"
  },
  "language_info": {
   "codemirror_mode": {
    "name": "ipython",
    "version": 3
   },
   "file_extension": ".py",
   "mimetype": "text/x-python",
   "name": "python",
   "nbconvert_exporter": "python",
   "pygments_lexer": "ipython3",
   "version": "3.5.2"
  },
  "widgets": {
   "state": {},
   "version": "1.1.2"
  }
 },
 "nbformat": 4,
 "nbformat_minor": 2
}
